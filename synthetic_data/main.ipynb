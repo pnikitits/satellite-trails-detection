{
 "cells": [
  {
   "cell_type": "code",
   "execution_count": null,
   "id": "cc8c712f",
   "metadata": {},
   "outputs": [],
   "source": [
    "from utils import generate_noise_image, sample_average_color, load_image, plot_images\n",
    "from stars import add_soft_stars\n",
    "from trails import add_satellite_trails"
   ]
  },
  {
   "cell_type": "code",
   "execution_count": null,
   "id": "b3bc134b",
   "metadata": {},
   "outputs": [],
   "source": [
    "test_image = load_image('test_image.jpg')\n",
    "print(sample_average_color(test_image))\n",
    "noise_image = generate_noise_image(max_brightness=50)\n",
    "plot_images([test_image, noise_image])"
   ]
  },
  {
   "cell_type": "code",
   "execution_count": null,
   "id": "235065c8",
   "metadata": {},
   "outputs": [],
   "source": [
    "star_image = add_soft_stars(noise_image, num_stars=100)\n",
    "plot_images([test_image, star_image])"
   ]
  },
  {
   "cell_type": "code",
   "execution_count": null,
   "id": "780727a5",
   "metadata": {},
   "outputs": [],
   "source": [
    "trails_image = add_satellite_trails(star_image, num_trails=1)\n",
    "plot_images([test_image, trails_image])"
   ]
  }
 ],
 "metadata": {
  "kernelspec": {
   "display_name": "Env1",
   "language": "python",
   "name": "python3"
  },
  "language_info": {
   "codemirror_mode": {
    "name": "ipython",
    "version": 3
   },
   "file_extension": ".py",
   "mimetype": "text/x-python",
   "name": "python",
   "nbconvert_exporter": "python",
   "pygments_lexer": "ipython3",
   "version": "3.12.9"
  }
 },
 "nbformat": 4,
 "nbformat_minor": 5
}
